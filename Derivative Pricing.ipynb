{
 "cells": [
  {
   "cell_type": "code",
   "execution_count": 1,
   "id": "40b26a08",
   "metadata": {},
   "outputs": [],
   "source": [
    "import pandas as pd\n",
    "import numpy as np\n",
    "import matplotlib.pyplot as plt\n",
    "import seaborn as sns\n",
    "import yfinance as yf\n",
    "import datetime as dt"
   ]
  },
  {
   "cell_type": "code",
   "execution_count": 2,
   "id": "ecb93d53",
   "metadata": {},
   "outputs": [],
   "source": [
    "issue_date = dt.date(2022,4,25)\n",
    "maturity_date = dt.date(2023,10,25) \n",
    "bussiness_days = np.busday_count(issue_date, maturity_date) + 1 "
   ]
  },
  {
   "cell_type": "code",
   "execution_count": 3,
   "id": "c68875c6",
   "metadata": {},
   "outputs": [],
   "source": [
    "earlyredemption_dates = [dt.date(2023,4,25), dt.date(2023,7,25)]"
   ]
  },
  {
   "cell_type": "code",
   "execution_count": 4,
   "id": "b7e589fb",
   "metadata": {},
   "outputs": [],
   "source": [
    "coupon_dates = [dt.date(2022,8,2),dt.date(2022,11,2),dt.date(2023,2,2),dt.date(2023,5,2),dt.date(2023,8,2),dt.date(2023,11,2)]"
   ]
  },
  {
   "cell_type": "markdown",
   "id": "2960ce07",
   "metadata": {},
   "source": [
    "### finding exchange rate on a future date using GBM"
   ]
  },
  {
   "cell_type": "code",
   "execution_count": 5,
   "id": "85696020",
   "metadata": {},
   "outputs": [
    {
     "data": {
      "text/plain": [
       "Date\n",
       "2019-04-25    7.84270\n",
       "2019-04-26    7.84360\n",
       "2019-04-29    7.84284\n",
       "2019-04-30    7.84410\n",
       "2019-05-01    7.84550\n",
       "               ...   \n",
       "2022-04-19    7.84150\n",
       "2022-04-20    7.84190\n",
       "2022-04-21    7.84390\n",
       "2022-04-22    7.84460\n",
       "2022-04-25    7.84629\n",
       "Name: Adj Close, Length: 782, dtype: float64"
      ]
     },
     "execution_count": 5,
     "metadata": {},
     "output_type": "execute_result"
    }
   ],
   "source": [
    "ticker = ['HKD=X']\n",
    "\n",
    "start_date = dt.date(2019,4,25)\n",
    "end_date = dt.date(2022,4,25)\n",
    "\n",
    "df2 = yf.download(ticker,start_date,end_date,progress=False)['Adj Close']\n",
    "df2=df2.fillna(method='ffill')\n",
    "\n",
    "df2"
   ]
  },
  {
   "cell_type": "code",
   "execution_count": 6,
   "id": "082649d6",
   "metadata": {},
   "outputs": [],
   "source": [
    "np.std(df2)\n",
    "date_index = pd.date_range(issue_date, maturity_date, freq='B')\n",
    "r = np.array(0.0233)"
   ]
  },
  {
   "cell_type": "code",
   "execution_count": 7,
   "id": "e7dccbc4",
   "metadata": {},
   "outputs": [
    {
     "name": "stdout",
     "output_type": "stream",
     "text": [
      "[8.542237138891073]\n"
     ]
    }
   ],
   "source": [
    "np.std(df2)\n",
    "X2a = []\n",
    "for i in range(393):\n",
    "    X2=np.random.normal(0,1)\n",
    "    \n",
    "    X2a.append(X2)\n",
    "    \n",
    "def gbm2 (X2a,e0,T,sig,r,n=bussiness_days):\n",
    "    \n",
    "    dt = T/n\n",
    "    E = [e0]\n",
    "    for i in range(1,n):\n",
    "        E.append(E[i-1]*np.exp((r-0.5*sig**2)*dt + sig*np.sqrt(dt)*X2a[i-1]))\n",
    "    return E \n",
    "\n",
    "date_ind = pd.date_range(issue_date, maturity_date, freq='B')\n",
    "df4 = pd.DataFrame(index=date_index)\n",
    "\n",
    "for i,key in enumerate(ticker):\n",
    "    df4 = gbm2(e0=df2[-1],T=18/12,sig=0.032,r=r,n=bussiness_days,X2a=X2a)\n",
    "        \n",
    "    print(df4[-1:])"
   ]
  },
  {
   "cell_type": "code",
   "execution_count": 8,
   "id": "c86e0477",
   "metadata": {},
   "outputs": [
    {
     "data": {
      "text/plain": [
       "[<matplotlib.lines.Line2D at 0x2143984b790>]"
      ]
     },
     "execution_count": 8,
     "metadata": {},
     "output_type": "execute_result"
    },
    {
     "data": {
      "image/png": "[encoded data removed]",
      "text/plain": [
       "<Figure size 432x288 with 1 Axes>"
      ]
     },
     "metadata": {
      "needs_background": "light"
     },
     "output_type": "display_data"
    }
   ],
   "source": [
    "plt.plot(df4)"
   ]
  },
  {
   "cell_type": "markdown",
   "id": "1fd0b4bd",
   "metadata": {},
   "source": [
    " ###  estimation  from historical data  "
   ]
  },
  {
   "cell_type": "code",
   "execution_count": 10,
   "id": "8f112b77",
   "metadata": {},
   "outputs": [],
   "source": [
    "strike = np.array((0.7,0.7,0.7))\n",
    "call_trigger = np.array((1.0,1.0,1.0))\n",
    "\n",
    "conversion_ratio ={'9988.HK' : 7454.60, 'GOOGL' : 29.85, 'AMZN' : 24.74}"
   ]
  },
  {
   "cell_type": "code",
   "execution_count": 11,
   "id": "ccc45ae8",
   "metadata": {},
   "outputs": [],
   "source": [
    "tickers = ['9988.HK','GOOGL','AMZN']\n",
    "start_date = dt.date(2020,4,25)\n",
    "end_date = dt.date(2022,4,25)"
   ]
  },
  {
   "cell_type": "code",
   "execution_count": 12,
   "id": "7fb3ecdd",
   "metadata": {},
   "outputs": [],
   "source": [
    "df = yf.download(tickers,start_date,end_date,progress=False)['Adj Close']\n",
    "df=df.fillna(method='ffill')"
   ]
  },
  {
   "cell_type": "code",
   "execution_count": 13,
   "id": "54394085",
   "metadata": {},
   "outputs": [
    {
     "data": {
      "text/html": [
       "<div>\n",
       "<style scoped>\n",
       "    .dataframe tbody tr th:only-of-type {\n",
       "        vertical-align: middle;\n",
       "    }\n",
       "\n",
       "    .dataframe tbody tr th {\n",
       "        vertical-align: top;\n",
       "    }\n",
       "\n",
       "    .dataframe thead th {\n",
       "        text-align: right;\n",
       "    }\n",
       "</style>\n",
       "<table border=\"1\" class=\"dataframe\">\n",
       "  <thead>\n",
       "    <tr style=\"text-align: right;\">\n",
       "      <th></th>\n",
       "      <th>9988.HK</th>\n",
       "      <th>AMZN</th>\n",
       "      <th>GOOGL</th>\n",
       "    </tr>\n",
       "    <tr>\n",
       "      <th>Date</th>\n",
       "      <th></th>\n",
       "      <th></th>\n",
       "      <th></th>\n",
       "    </tr>\n",
       "  </thead>\n",
       "  <tbody>\n",
       "    <tr>\n",
       "      <th>2020-04-27</th>\n",
       "      <td>200.600006</td>\n",
       "      <td>2376.000000</td>\n",
       "      <td>1270.859985</td>\n",
       "    </tr>\n",
       "    <tr>\n",
       "      <th>2020-04-28</th>\n",
       "      <td>199.000000</td>\n",
       "      <td>2314.080078</td>\n",
       "      <td>1232.589966</td>\n",
       "    </tr>\n",
       "    <tr>\n",
       "      <th>2020-04-29</th>\n",
       "      <td>197.000000</td>\n",
       "      <td>2372.709961</td>\n",
       "      <td>1342.180054</td>\n",
       "    </tr>\n",
       "    <tr>\n",
       "      <th>2020-04-30</th>\n",
       "      <td>197.000000</td>\n",
       "      <td>2474.000000</td>\n",
       "      <td>1346.699951</td>\n",
       "    </tr>\n",
       "    <tr>\n",
       "      <th>2020-05-01</th>\n",
       "      <td>197.000000</td>\n",
       "      <td>2286.040039</td>\n",
       "      <td>1317.319946</td>\n",
       "    </tr>\n",
       "    <tr>\n",
       "      <th>...</th>\n",
       "      <td>...</td>\n",
       "      <td>...</td>\n",
       "      <td>...</td>\n",
       "    </tr>\n",
       "    <tr>\n",
       "      <th>2022-04-19</th>\n",
       "      <td>91.500000</td>\n",
       "      <td>3162.310059</td>\n",
       "      <td>2600.179932</td>\n",
       "    </tr>\n",
       "    <tr>\n",
       "      <th>2022-04-20</th>\n",
       "      <td>90.699997</td>\n",
       "      <td>3079.959961</td>\n",
       "      <td>2560.800049</td>\n",
       "    </tr>\n",
       "    <tr>\n",
       "      <th>2022-04-21</th>\n",
       "      <td>87.900002</td>\n",
       "      <td>2965.919922</td>\n",
       "      <td>2496.290039</td>\n",
       "    </tr>\n",
       "    <tr>\n",
       "      <th>2022-04-22</th>\n",
       "      <td>86.650002</td>\n",
       "      <td>2887.000000</td>\n",
       "      <td>2392.709961</td>\n",
       "    </tr>\n",
       "    <tr>\n",
       "      <th>2022-04-25</th>\n",
       "      <td>81.849998</td>\n",
       "      <td>2887.000000</td>\n",
       "      <td>2392.709961</td>\n",
       "    </tr>\n",
       "  </tbody>\n",
       "</table>\n",
       "<p>516 rows × 3 columns</p>\n",
       "</div>"
      ],
      "text/plain": [
       "               9988.HK         AMZN        GOOGL\n",
       "Date                                            \n",
       "2020-04-27  200.600006  2376.000000  1270.859985\n",
       "2020-04-28  199.000000  2314.080078  1232.589966\n",
       "2020-04-29  197.000000  2372.709961  1342.180054\n",
       "2020-04-30  197.000000  2474.000000  1346.699951\n",
       "2020-05-01  197.000000  2286.040039  1317.319946\n",
       "...                ...          ...          ...\n",
       "2022-04-19   91.500000  3162.310059  2600.179932\n",
       "2022-04-20   90.699997  3079.959961  2560.800049\n",
       "2022-04-21   87.900002  2965.919922  2496.290039\n",
       "2022-04-22   86.650002  2887.000000  2392.709961\n",
       "2022-04-25   81.849998  2887.000000  2392.709961\n",
       "\n",
       "[516 rows x 3 columns]"
      ]
     },
     "execution_count": 13,
     "metadata": {},
     "output_type": "execute_result"
    }
   ],
   "source": [
    "df"
   ]
  },
  {
   "cell_type": "code",
   "execution_count": 14,
   "id": "d9216bda",
   "metadata": {},
   "outputs": [
    {
     "data": {
      "text/html": [
       "<div>\n",
       "<style scoped>\n",
       "    .dataframe tbody tr th:only-of-type {\n",
       "        vertical-align: middle;\n",
       "    }\n",
       "\n",
       "    .dataframe tbody tr th {\n",
       "        vertical-align: top;\n",
       "    }\n",
       "\n",
       "    .dataframe thead th {\n",
       "        text-align: right;\n",
       "    }\n",
       "</style>\n",
       "<table border=\"1\" class=\"dataframe\">\n",
       "  <thead>\n",
       "    <tr style=\"text-align: right;\">\n",
       "      <th></th>\n",
       "      <th>9988.HK</th>\n",
       "      <th>AMZN</th>\n",
       "      <th>GOOGL</th>\n",
       "    </tr>\n",
       "    <tr>\n",
       "      <th>Date</th>\n",
       "      <th></th>\n",
       "      <th></th>\n",
       "      <th></th>\n",
       "    </tr>\n",
       "  </thead>\n",
       "  <tbody>\n",
       "    <tr>\n",
       "      <th>2020-04-27</th>\n",
       "      <td>23.483310</td>\n",
       "      <td>2376.000000</td>\n",
       "      <td>1270.859985</td>\n",
       "    </tr>\n",
       "    <tr>\n",
       "      <th>2020-04-28</th>\n",
       "      <td>23.296005</td>\n",
       "      <td>2314.080078</td>\n",
       "      <td>1232.589966</td>\n",
       "    </tr>\n",
       "    <tr>\n",
       "      <th>2020-04-29</th>\n",
       "      <td>23.061874</td>\n",
       "      <td>2372.709961</td>\n",
       "      <td>1342.180054</td>\n",
       "    </tr>\n",
       "    <tr>\n",
       "      <th>2020-04-30</th>\n",
       "      <td>23.061874</td>\n",
       "      <td>2474.000000</td>\n",
       "      <td>1346.699951</td>\n",
       "    </tr>\n",
       "    <tr>\n",
       "      <th>2020-05-01</th>\n",
       "      <td>23.061874</td>\n",
       "      <td>2286.040039</td>\n",
       "      <td>1317.319946</td>\n",
       "    </tr>\n",
       "    <tr>\n",
       "      <th>...</th>\n",
       "      <td>...</td>\n",
       "      <td>...</td>\n",
       "      <td>...</td>\n",
       "    </tr>\n",
       "    <tr>\n",
       "      <th>2022-04-19</th>\n",
       "      <td>10.711480</td>\n",
       "      <td>3162.310059</td>\n",
       "      <td>2600.179932</td>\n",
       "    </tr>\n",
       "    <tr>\n",
       "      <th>2022-04-20</th>\n",
       "      <td>10.617827</td>\n",
       "      <td>3079.959961</td>\n",
       "      <td>2560.800049</td>\n",
       "    </tr>\n",
       "    <tr>\n",
       "      <th>2022-04-21</th>\n",
       "      <td>10.290045</td>\n",
       "      <td>2965.919922</td>\n",
       "      <td>2496.290039</td>\n",
       "    </tr>\n",
       "    <tr>\n",
       "      <th>2022-04-22</th>\n",
       "      <td>10.143713</td>\n",
       "      <td>2887.000000</td>\n",
       "      <td>2392.709961</td>\n",
       "    </tr>\n",
       "    <tr>\n",
       "      <th>2022-04-25</th>\n",
       "      <td>9.581799</td>\n",
       "      <td>2887.000000</td>\n",
       "      <td>2392.709961</td>\n",
       "    </tr>\n",
       "  </tbody>\n",
       "</table>\n",
       "<p>516 rows × 3 columns</p>\n",
       "</div>"
      ],
      "text/plain": [
       "              9988.HK         AMZN        GOOGL\n",
       "Date                                           \n",
       "2020-04-27  23.483310  2376.000000  1270.859985\n",
       "2020-04-28  23.296005  2314.080078  1232.589966\n",
       "2020-04-29  23.061874  2372.709961  1342.180054\n",
       "2020-04-30  23.061874  2474.000000  1346.699951\n",
       "2020-05-01  23.061874  2286.040039  1317.319946\n",
       "...               ...          ...          ...\n",
       "2022-04-19  10.711480  3162.310059  2600.179932\n",
       "2022-04-20  10.617827  3079.959961  2560.800049\n",
       "2022-04-21  10.290045  2965.919922  2496.290039\n",
       "2022-04-22  10.143713  2887.000000  2392.709961\n",
       "2022-04-25   9.581799  2887.000000  2392.709961\n",
       "\n",
       "[516 rows x 3 columns]"
      ]
     },
     "execution_count": 14,
     "metadata": {},
     "output_type": "execute_result"
    }
   ],
   "source": [
    "df['9988.HK'] = df['9988.HK'] / df4[-1:]\n",
    "df"
   ]
  },
  {
   "cell_type": "markdown",
   "id": "d0d30765",
   "metadata": {},
   "source": [
    "###  treasury rates as on 04/25/2022 (interpolation between 1 year and 2 years) "
   ]
  },
  {
   "cell_type": "code",
   "execution_count": 15,
   "id": "b8a09394",
   "metadata": {},
   "outputs": [],
   "source": [
    "r = np.array(0.0233)\n",
    "sigma = df.pct_change().cov() * 252"
   ]
  },
  {
   "cell_type": "markdown",
   "id": "b201810f",
   "metadata": {},
   "source": [
    "### finding dividend yields on our underlying assets"
   ]
  },
  {
   "cell_type": "code",
   "execution_count": 16,
   "id": "35138ab3",
   "metadata": {},
   "outputs": [],
   "source": [
    "d = np.zeros(3)\n",
    "for i,key in enumerate(tickers):\n",
    "    d[i] = yf.Ticker(key).info['trailingAnnualDividendYield']"
   ]
  },
  {
   "cell_type": "markdown",
   "id": "d8cc5dd9",
   "metadata": {},
   "source": [
    "### using cholesky decomposition we can get correlation and then apply geomatric brownian motion "
   ]
  },
  {
   "cell_type": "code",
   "execution_count": 17,
   "id": "38030f9e",
   "metadata": {},
   "outputs": [],
   "source": [
    "chol = np.matrix(np.linalg.cholesky(sigma))"
   ]
  },
  {
   "cell_type": "code",
   "execution_count": 18,
   "id": "54e3f14b",
   "metadata": {},
   "outputs": [],
   "source": [
    "def correlation_r(a=3,b=bussiness_days,c=chol):\n",
    "        Z = np.zeros((a,b))\n",
    "        for i in range(0,a):\n",
    "            Z[i] = np.random.normal(0,1,b)\n",
    "        X = np.array(c * Z)\n",
    "        return(X)"
   ]
  },
  {
   "cell_type": "code",
   "execution_count": 19,
   "id": "82108d57",
   "metadata": {},
   "outputs": [],
   "source": [
    "def gbm(s0,T,sigma,r,div,n=bussiness_days,X=np.random.normal(0,1,bussiness_days)):\n",
    "        dt = T/n\n",
    "        S = [s0]\n",
    "        for i in range(1,n):\n",
    "            S.append(S[i-1]*np.exp((r-div-0.5*sigma**2)*dt + sigma*np.sqrt(dt)*X[i-1]))\n",
    "        return S"
   ]
  },
  {
   "cell_type": "markdown",
   "id": "5526181d",
   "metadata": {},
   "source": [
    "### after this we simulate payoff using the conditions given in products (more explaination in project report)"
   ]
  },
  {
   "cell_type": "code",
   "execution_count": 20,
   "id": "8cf92078",
   "metadata": {},
   "outputs": [
    {
     "name": "stdout",
     "output_type": "stream",
     "text": [
      "103.23462284876946\n"
     ]
    }
   ],
   "source": [
    "N = 10**3\n",
    "prices = []\n",
    "for j in range(N):\n",
    "    date_index = pd.date_range(issue_date, maturity_date, freq='B')\n",
    "    df3 = pd.DataFrame(index=date_index)\n",
    "    X = correlation_r()\n",
    "    for i,key in enumerate(tickers):\n",
    "        df3[key] = gbm(s0=df[key][-1],T=18/12,sigma=sigma.iloc[i,i],r=r,div=d[i],n=bussiness_days,X=X[i])\n",
    "    indexed_df = df3/df3.iloc[0]\n",
    "    condition1 = []\n",
    "    for i in range(len(earlyredemption_dates)):\n",
    "            condition1.append((indexed_df.loc[str(earlyredemption_dates[i])] > call_trigger).astype(int).prod())\n",
    "    condition2 = 1\n",
    "    for i in range(len(indexed_df[-1:])):\n",
    "        if indexed_df.iloc[-1][i] < strike[i]:\n",
    "            condition2 = 0\n",
    "            break\n",
    "    investment = 50000\n",
    "    coupon_rate = 0.01342\n",
    "    discount_factor = np.exp(-r * 18/12) \n",
    "    worst_performance = indexed_df.iloc[-1].idxmin()\n",
    "    condition3 = 1\n",
    "    payments = pd.DataFrame(np.zeros(len(coupon_dates)),index=coupon_dates, columns=['cash'])\n",
    "    for i in range(3):\n",
    "        payments.iloc[i] = investment * coupon_rate\n",
    "    for i in range(len(condition1)):\n",
    "        if condition1[i] == 1: \n",
    "            payments.iloc[i+3] = investment + (investment * coupon_rate)\n",
    "            condition3=0\n",
    "            break\n",
    "        else:\n",
    "            payments.iloc[i+3] = investment * coupon_rate\n",
    "    if condition2 == 1:\n",
    "        payments.iloc[-1][0] += ( investment + (investment * coupon_rate) )* condition3\n",
    "    else:\n",
    "        payments.iloc[-1][0] += df3[worst_performance].iloc[-1] * conversion_ratio[worst_performance] * condition3  \n",
    "    discounted_cash = payments * discount_factor\n",
    "    discounted_cash.sum()\n",
    "    price =( discounted_cash.sum() / investment ) * 100\n",
    "    \n",
    "    prices.append(price[0])\n",
    "    #print(price[0])\n",
    "    \n",
    "\n",
    "avg = sum(prices)/N\n",
    "\n",
    "print(avg)\n",
    "    \n",
    "\n",
    "        \n",
    "            \n",
    "            \n",
    "    \n",
    "    \n",
    "            \n",
    "\n",
    "  \n",
    "    "
   ]
  },
  {
   "cell_type": "code",
   "execution_count": null,
   "id": "a83ae328",
   "metadata": {},
   "outputs": [],
   "source": []
  },
  {
   "cell_type": "markdown",
   "id": "e748de16",
   "metadata": {},
   "source": [
    "### payoff as a function of coupon rate"
   ]
  },
  {
   "cell_type": "code",
   "execution_count": 21,
   "id": "bacabef6",
   "metadata": {},
   "outputs": [],
   "source": [
    "N = 1000\n",
    "B=10\n",
    "#prices = []\n",
    "coupons = list(np.arange(0.01,0.1,0.01))\n",
    "\n",
    "dcfs=[]\n",
    "for B in range(len(coupons)):\n",
    "    prices = []\n",
    "    for j in range(N):\n",
    "        date_index = pd.date_range(issue_date, maturity_date, freq='B')\n",
    "        df3 = pd.DataFrame(index=date_index)\n",
    "        X = correlation_r()\n",
    "        for i,key in enumerate(tickers):\n",
    "            df3[key] = gbm(s0=df[key][-1],T=18/12,sigma=sigma.iloc[i,i],r=r,div=d[i],n=bussiness_days,X=X[i])\n",
    "        indexed_df = df3/df3.iloc[0]\n",
    "        condition1 = []\n",
    "        for i in range(len(earlyredemption_dates)):\n",
    "                condition1.append((indexed_df.loc[str(earlyredemption_dates[i])] > call_trigger).astype(int).prod())\n",
    "        condition2 = 1\n",
    "        for i in range(len(indexed_df[-1:])):\n",
    "            if indexed_df.iloc[-1][i] < strike[i]:\n",
    "                condition2 = 0\n",
    "                break\n",
    "        investment = 50000\n",
    "        #coupon_rate = 0.01342\n",
    "        discount_factor = np.exp(-r * 18/12) \n",
    "        worst_performance = indexed_df.iloc[-1].idxmin()\n",
    "        condition3 = 1\n",
    "        payments = pd.DataFrame(np.zeros(len(coupon_dates)),index=coupon_dates, columns=['cash'])\n",
    "        for i in range(3):\n",
    "            payments.iloc[i] = investment * coupons[B]\n",
    "        for i in range(len(condition1)):\n",
    "            if condition1[i] == 1: \n",
    "                payments.iloc[i+3] = investment + (investment * coupons[B])\n",
    "                condition3=0\n",
    "                break\n",
    "            else:\n",
    "                payments.iloc[i+3] = investment * coupons[B]\n",
    "        if condition2 == 1:\n",
    "            payments.iloc[-1][0] += ( investment + (investment * coupons[B]) )* condition3\n",
    "        else:\n",
    "            payments.iloc[-1][0] += df3[worst_performance].iloc[-1] * conversion_ratio[worst_performance] * condition3  \n",
    "        discounted_cash = payments * discount_factor\n",
    "        discounted_cash.sum()\n",
    "        price =( discounted_cash.sum() / investment ) * 100\n",
    "\n",
    "        prices.append(price[0])\n",
    "        #print(price[0])\n",
    "\n",
    "    avg = sum(prices)/N\n",
    "    \n",
    "    dcfs.append(avg) \n",
    "    #print(dcfs)    "
   ]
  },
  {
   "cell_type": "code",
   "execution_count": 22,
   "id": "6c778ead",
   "metadata": {},
   "outputs": [
    {
     "name": "stdout",
     "output_type": "stream",
     "text": [
      "[101.48886571262915, 106.53201489294187, 111.55416027549983, 116.62157211233847, 121.78894801100235, 127.03608527032925, 132.21851245345297, 137.09767363979466, 141.98119206068412]\n"
     ]
    }
   ],
   "source": [
    "print(dcfs)"
   ]
  },
  {
   "cell_type": "code",
   "execution_count": 23,
   "id": "5d76173c",
   "metadata": {},
   "outputs": [
    {
     "data": {
      "text/plain": [
       "[<matplotlib.lines.Line2D at 0x2143a80b0a0>]"
      ]
     },
     "execution_count": 23,
     "metadata": {},
     "output_type": "execute_result"
    },
    {
     "data": {
      "image/png": "[encoded data removed]",
      "text/plain": [
       "<Figure size 432x288 with 1 Axes>"
      ]
     },
     "metadata": {
      "needs_background": "light"
     },
     "output_type": "display_data"
    }
   ],
   "source": [
    "plt.plot(dcfs)"
   ]
  },
  {
   "cell_type": "code",
   "execution_count": null,
   "id": "f5baf639",
   "metadata": {},
   "outputs": [],
   "source": []
  }
 ],
 "metadata": {
  "kernelspec": {
   "display_name": "Python 3",
   "language": "python",
   "name": "python3"
  },
  "language_info": {
   "codemirror_mode": {
    "name": "ipython",
    "version": 3
   },
   "file_extension": ".py",
   "mimetype": "text/x-python",
   "name": "python",
   "nbconvert_exporter": "python",
   "pygments_lexer": "ipython3",
   "version": "3.8.8"
  }
 },
 "nbformat": 4,
 "nbformat_minor": 5
}
